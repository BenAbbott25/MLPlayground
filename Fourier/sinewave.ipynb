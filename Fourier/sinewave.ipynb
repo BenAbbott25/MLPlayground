{
 "cells": [
  {
   "cell_type": "code",
   "execution_count": 1,
   "metadata": {},
   "outputs": [
    {
     "ename": "TypeError",
     "evalue": "can't multiply sequence by non-int of type 'float'",
     "output_type": "error",
     "traceback": [
      "\u001b[0;31m---------------------------------------------------------------------------\u001b[0m",
      "\u001b[0;31mTypeError\u001b[0m                                 Traceback (most recent call last)",
      "Cell \u001b[0;32mIn[1], line 31\u001b[0m\n\u001b[1;32m     27\u001b[0m frequencies \u001b[39m=\u001b[39m [frequency_root, frequency_third, frequency_fifth, frequency_seventh]\n\u001b[1;32m     30\u001b[0m \u001b[39m# Create a list of amplitudes\u001b[39;00m\n\u001b[0;32m---> 31\u001b[0m amplitudes \u001b[39m=\u001b[39m [amplitude_root, amplitude_third, amplitude_fifth, amplitude_seventh] \u001b[39m*\u001b[39;49m amplitude\n\u001b[1;32m     33\u001b[0m \u001b[39mfor\u001b[39;00m i \u001b[39min\u001b[39;00m \u001b[39mrange\u001b[39m(num_samples):\n\u001b[1;32m     34\u001b[0m \n\u001b[1;32m     35\u001b[0m     \u001b[39m# Create a list of sine wave values for each frequency\u001b[39;00m\n\u001b[1;32m     36\u001b[0m     sine_values \u001b[39m=\u001b[39m [math\u001b[39m.\u001b[39msin(\u001b[39m2.0\u001b[39m \u001b[39m*\u001b[39m math\u001b[39m.\u001b[39mpi \u001b[39m*\u001b[39m freq \u001b[39m*\u001b[39m i \u001b[39m/\u001b[39m sample_rate) \u001b[39mfor\u001b[39;00m freq \u001b[39min\u001b[39;00m frequencies]\n",
      "\u001b[0;31mTypeError\u001b[0m: can't multiply sequence by non-int of type 'float'"
     ]
    }
   ],
   "source": [
    "import wave\n",
    "import math\n",
    "import numpy as np\n",
    "\n",
    "filename = \"sine_wave.wav\"\n",
    "duration = 5  # Duration in seconds\n",
    "sample_rate = 44100  # Sample rate in Hz\n",
    "frequency_root = 220.0  # Halved frequency of the sine wave in Hz\n",
    "frequency_third = 277.185  # Halved frequency of the third in Hz\n",
    "frequency_fifth = 329.625  # Halved frequency of the fifth in Hz\n",
    "frequency_seventh = 392.0  # Added frequency of the seventh in Hz\n",
    "amplitude_root = 0.5  # Multiplyer for root\n",
    "amplitude_third = 0.5  # Multiplyer for third\n",
    "amplitude_fifth = 0.5  # Multiplyer for fifth\n",
    "amplitude_seventh = 0.5  # Multiplyer for seventh\n",
    "\n",
    "lfo = 3 #Hz\n",
    "\n",
    "\n",
    "num_samples = int(duration * sample_rate)\n",
    "amplitude = 32767.0  # Amplitude of the sine wave (0 to 32767)\n",
    "\n",
    "wave_file = wave.open(filename, 'w')\n",
    "wave_file.setparams((1, 2, sample_rate, num_samples, 'NONE', 'not compressed'))\n",
    "\n",
    "# Create a list of frequencies\n",
    "frequencies = [frequency_root, frequency_third, frequency_fifth, frequency_seventh]\n",
    "\n",
    "\n",
    "# Create a list of amplitudes\n",
    "amplitudes = [amplitude_root, amplitude_third, amplitude_fifth, amplitude_seventh]\n",
    "\n",
    "for i in range(num_samples):\n",
    "\n",
    "    # Create a list of sine wave values for each frequency\n",
    "    sine_values = [math.sin(2.0 * math.pi * freq * i / sample_rate) for freq in frequencies]\n",
    "\n",
    "    # calculate amplitudes using modifyer, lfo and sine function\n",
    "    \n",
    "    amplitudes = [amplitude * modifier * (math.sin(2.0 * math.pi * lfo * i / sample_rate)) for modifier in amplitudes]\n",
    "\n",
    "    # Calculate the dot product\n",
    "    value = int(np.dot(sine_values, amplitudes) / 3)\n",
    "\n",
    "    wave_file.writeframesraw(value.to_bytes(2, byteorder='little', signed=True))\n",
    "\n",
    "wave_file.close()"
   ]
  }
 ],
 "metadata": {
  "kernelspec": {
   "display_name": "Python 3.9.6 ('MLenv': venv)",
   "language": "python",
   "name": "python3"
  },
  "language_info": {
   "codemirror_mode": {
    "name": "ipython",
    "version": 3
   },
   "file_extension": ".py",
   "mimetype": "text/x-python",
   "name": "python",
   "nbconvert_exporter": "python",
   "pygments_lexer": "ipython3",
   "version": "3.9.6"
  },
  "orig_nbformat": 4,
  "vscode": {
   "interpreter": {
    "hash": "1dd0732b7f5c9e9188618993b5310f665c617770fff3e23f5c61d6a39d02cdf6"
   }
  }
 },
 "nbformat": 4,
 "nbformat_minor": 2
}
