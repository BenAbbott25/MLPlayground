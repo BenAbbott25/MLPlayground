{
 "cells": [
  {
   "cell_type": "code",
   "execution_count": null,
   "metadata": {},
   "outputs": [],
   "source": [
    "import wave\n",
    "import numpy as np\n",
    "\n",
    "def load_data(filename):\n",
    "    wav_file = wave.open(filename, 'r')\n",
    "    nchannels, sampwidth, framerate, nframes, comptype, compname = wav_file.getparams()\n",
    "    print(\"nchannels: \", nchannels)\n",
    "    print(\"sampwidth: \", sampwidth)\n",
    "    print(\"framerate: \", framerate)\n",
    "    print(\"nframes: \", nframes)\n",
    "    frames = wav_file.readframes(nframes)\n",
    "    data =  {i: frames[i] for i in range(len(frames))}\n",
    "    wav_file.close()\n",
    "    return data\n",
    "\n",
    "load_data(\"sine_wave.wav\")"
   ]
  },
  {
   "cell_type": "code",
   "execution_count": 7,
   "metadata": {},
   "outputs": [
    {
     "name": "stdout",
     "output_type": "stream",
     "text": [
      "[10, -0.5440211108893698, -0.8390715290764524, 0.9129452507276277, 0.408082061813392, -0.9880316240928618, 0.15425144988758405, 0.7451131604793488, -0.6669380616522619, -0.26237485370392877, 0.9649660284921133]\n"
     ]
    }
   ],
   "source": [
    "# fourier takes in number and outputs a list of the fourier series of order n\n",
    "import numpy as np\n",
    "def fourier(input, order):\n",
    "    output = [input]\n",
    "    for i in range(order):\n",
    "        output.append(np.sin(input * (i+1)))\n",
    "        output.append(np.cos(input * (i+1)))\n",
    "    return output\n",
    "\n",
    "print(fourier(10, 5))"
   ]
  },
  {
   "cell_type": "code",
   "execution_count": 10,
   "metadata": {},
   "outputs": [
    {
     "name": "stdout",
     "output_type": "stream",
     "text": [
      "Loading data\n",
      "tensor([[ 0.0000e+00,  0.0000e+00,  1.0000e+00,  ...,  1.0000e+00,\n",
      "          0.0000e+00,  1.0000e+00],\n",
      "        [ 2.0000e+00,  9.0930e-01, -4.1615e-01,  ..., -1.4550e-01,\n",
      "         -5.4402e-01, -8.3907e-01],\n",
      "        [ 4.0000e+00, -7.5680e-01, -6.5364e-01,  ..., -9.5766e-01,\n",
      "          9.1295e-01,  4.0808e-01],\n",
      "        ...,\n",
      "        [ 4.4099e+05,  7.0722e-01, -7.0699e-01,  ..., -1.0000e+00,\n",
      "         -7.0769e-01,  7.0653e-01],\n",
      "        [ 4.4100e+05, -9.3717e-01, -3.4886e-01,  ...,  1.4485e-01,\n",
      "          2.0943e-01, -9.7782e-01],\n",
      "        [ 4.4100e+05,  7.2781e-02,  9.9735e-01,  ...,  9.5785e-01,\n",
      "          3.5623e-01,  9.3440e-01]], dtype=torch.float64) tensor([  0., 180., 101.,  ...,  44., 129., 188.], dtype=torch.float64) tensor([[ 1.0000e+00,  8.4147e-01,  5.4030e-01,  ..., -6.5364e-01,\n",
      "         -9.5892e-01,  2.8366e-01],\n",
      "        [ 3.0000e+00,  1.4112e-01, -9.8999e-01,  ...,  8.4385e-01,\n",
      "          6.5029e-01, -7.5969e-01],\n",
      "        [ 5.0000e+00, -9.5892e-01,  2.8366e-01,  ...,  4.0808e-01,\n",
      "         -1.3235e-01,  9.9120e-01],\n",
      "        ...,\n",
      "        [ 4.4100e+05, -2.1280e-01, -9.7710e-01,  ...,  6.5414e-01,\n",
      "         -8.7825e-01, -4.7820e-01],\n",
      "        [ 4.4100e+05, -7.9992e-01,  6.0011e-01,  ..., -8.4350e-01,\n",
      "          9.9707e-01, -7.6539e-02],\n",
      "        [ 4.4100e+05,  8.7856e-01,  4.7763e-01,  ..., -4.0868e-01,\n",
      "         -7.9497e-01,  6.0665e-01]], dtype=torch.float64) tensor([ 0.,  3.,  7.,  ..., 52., 53., 54.], dtype=torch.float64)\n"
     ]
    }
   ],
   "source": [
    "import wave\n",
    "import numpy as np\n",
    "import torch\n",
    "\n",
    "def load_data(filename, order):\n",
    "    print(\"Loading data\")\n",
    "    # empty tensors to store data\n",
    "    train_data = []\n",
    "    train_labels = []\n",
    "    test_data = []\n",
    "    test_labels = []\n",
    "    wav_file = wave.open(filename, 'r')\n",
    "    nframes = wav_file.getparams().nframes\n",
    "    frames = wav_file.readframes(nframes)\n",
    "    for i in range(nframes):\n",
    "        if i % 2 == 0:\n",
    "            train_data.append(fourier(i,order))\n",
    "            train_labels.append(frames[i])\n",
    "        else:\n",
    "            test_data.append(fourier(i,order))\n",
    "            test_labels.append(frames[i])\n",
    "    wav_file.close()\n",
    "    # convert to tensors\n",
    "    train_data = torch.tensor(train_data, dtype=torch.float64)\n",
    "    train_labels = torch.tensor(train_labels, dtype=torch.float64)\n",
    "    test_data = torch.tensor(test_data, dtype=torch.float64)\n",
    "    test_labels = torch.tensor(test_labels, dtype=torch.float64)\n",
    "    \n",
    "    return train_data, train_labels, test_data, test_labels\n",
    "\n",
    "\n",
    "train_data, train_labels, test_data, test_labels = load_data(\"sine_wave.wav\",5)\n",
    "print(train_data, train_labels, test_data, test_labels)"
   ]
  },
  {
   "cell_type": "code",
   "execution_count": 11,
   "metadata": {},
   "outputs": [
    {
     "name": "stdout",
     "output_type": "stream",
     "text": [
      "train_data\n",
      "<class 'torch.Tensor'>\n",
      "torch.Size([220500, 11])\n",
      "train_labels\n",
      "<class 'torch.Tensor'>\n",
      "torch.Size([220500])\n",
      "test_data\n",
      "<class 'torch.Tensor'>\n",
      "torch.Size([220500, 11])\n",
      "test_labels\n",
      "<class 'torch.Tensor'>\n",
      "torch.Size([220500])\n"
     ]
    }
   ],
   "source": [
    "# type of train_data\n",
    "print(\"train_data\")\n",
    "print(type(train_data))\n",
    "print(train_data.shape)\n",
    "\n",
    "# type of train_labels\n",
    "print(\"train_labels\")\n",
    "print(type(train_labels))\n",
    "print(train_labels.shape)\n",
    "\n",
    "# type of test_data\n",
    "print(\"test_data\")\n",
    "print(type(test_data))\n",
    "print(test_data.shape)\n",
    "\n",
    "# type of test_labels\n",
    "print(\"test_labels\")\n",
    "print(type(test_labels))\n",
    "print(test_labels.shape)"
   ]
  }
 ],
 "metadata": {
  "kernelspec": {
   "display_name": "Python 3.9.6 ('MLenv': venv)",
   "language": "python",
   "name": "python3"
  },
  "language_info": {
   "codemirror_mode": {
    "name": "ipython",
    "version": 3
   },
   "file_extension": ".py",
   "mimetype": "text/x-python",
   "name": "python",
   "nbconvert_exporter": "python",
   "pygments_lexer": "ipython3",
   "version": "3.9.6"
  },
  "orig_nbformat": 4,
  "vscode": {
   "interpreter": {
    "hash": "1dd0732b7f5c9e9188618993b5310f665c617770fff3e23f5c61d6a39d02cdf6"
   }
  }
 },
 "nbformat": 4,
 "nbformat_minor": 2
}
