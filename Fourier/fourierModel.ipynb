{
 "cells": [
  {
   "cell_type": "code",
   "execution_count": 1,
   "metadata": {},
   "outputs": [],
   "source": [
    "# imports\n",
    "\n",
    "import torch\n",
    "import torch.nn as nn\n",
    "import torch.optim as optim\n",
    "from torch.utils.data import DataLoader, Dataset\n",
    "import numpy as np\n",
    "\n",
    "import matplotlib.pyplot as plt"
   ]
  },
  {
   "cell_type": "code",
   "execution_count": 6,
   "metadata": {},
   "outputs": [
    {
     "name": "stdout",
     "output_type": "stream",
     "text": [
      "91\n"
     ]
    }
   ],
   "source": [
    "# import load_data function from loadData.py\n",
    "from loadData import load_data\n",
    "\n",
    "# data = load_data(\"Hello There (Obi Wan) - Sound Effect (HD).wav\")\n",
    "data = load_data(\"sine_wave.wav\")\n",
    "print(data[10])\n"
   ]
  },
  {
   "cell_type": "code",
   "execution_count": 7,
   "metadata": {},
   "outputs": [
    {
     "ename": "NameError",
     "evalue": "name 'fourier' is not defined",
     "output_type": "error",
     "traceback": [
      "\u001b[0;31m---------------------------------------------------------------------------\u001b[0m",
      "\u001b[0;31mNameError\u001b[0m                                 Traceback (most recent call last)",
      "Cell \u001b[0;32mIn[7], line 12\u001b[0m\n\u001b[1;32m      9\u001b[0m     \u001b[39mreturn\u001b[39;00m batched_set\n\u001b[1;32m     11\u001b[0m batched_data \u001b[39m=\u001b[39m batch(data)\n\u001b[0;32m---> 12\u001b[0m \u001b[39mprint\u001b[39m(fourier(batched_data,\u001b[39m3\u001b[39m))\n",
      "\u001b[0;31mNameError\u001b[0m: name 'fourier' is not defined"
     ]
    }
   ],
   "source": [
    "# splits data into random batches\n",
    "def batch(set):\n",
    "    batch_size = 5\n",
    "    batched_set = []\n",
    "    # choose batch_size random numbers between 0 and len(set)\n",
    "    random_indices = np.random.randint(0, len(set), batch_size)\n",
    "    for i in random_indices:\n",
    "        batched_set.append(set[i])\n",
    "    return batched_set\n",
    "\n",
    "batched_data = batch(data)\n",
    "print(fourier(batched_data,3))"
   ]
  },
  {
   "cell_type": "code",
   "execution_count": null,
   "metadata": {},
   "outputs": [],
   "source": [
    "# define the network class\n",
    "\n",
    "order = 5\n",
    "dims = 2*order+1\n",
    "\n",
    "class Net(nn.Module):\n",
    "    def __init__(self, dims):\n",
    "        super().__init__()\n",
    "        self.dims = dims\n",
    "        self.fc1 = nn.Linear(self.dims, 2*self.dims)\n",
    "        self.fc2 = nn.Linear(2*self.dims, 2*self.dims)\n",
    "        self.fc3 = nn.Linear(2*self.dims, 2*self.dims)\n",
    "        self.fc4 = nn.Linear(2*self.dims, 2*self.dims)\n",
    "        self.fc5 = nn.Linear(2*self.dims, 1)\n",
    "\n",
    "\n",
    "    def forward(self, x):\n",
    "        x = torch.flatten(x, -1)\n",
    "        x = torch.relu(self.fc1(x))\n",
    "        x = torch.relu(self.fc2(x))\n",
    "        x = torch.relu(self.fc3(x))\n",
    "        x = torch.relu(self.fc4(x))\n",
    "        x = self.fc5(x)\n",
    "        return x"
   ]
  },
  {
   "cell_type": "code",
   "execution_count": null,
   "metadata": {},
   "outputs": [],
   "source": [
    "model = Net(dims).double()\n",
    "test_input = fourier([100,200],order)\n",
    "print(model.forward(test_input))"
   ]
  },
  {
   "cell_type": "code",
   "execution_count": null,
   "metadata": {},
   "outputs": [],
   "source": [
    "def test(model, test_loader):\n",
    "    correct = 0\n",
    "    total = 0\n",
    "    model.eval()\n",
    "\n",
    "    with torch.no_grad():\n",
    "        for data, labels in test_loader:\n",
    "            output = model(data)\n",
    "            predicted = output.data\n",
    "            total += labels.size(0)\n",
    "            correct += (predicted == labels).sum().item()\n",
    "            \n",
    "    accuracy = correct / total\n",
    "    print(f\"Accuracy: {accuracy * 100}%\")\n",
    "    return accuracy\n"
   ]
  },
  {
   "cell_type": "code",
   "execution_count": null,
   "metadata": {},
   "outputs": [],
   "source": [
    "# Format data into dataset type\n",
    "class FourierDataset(Dataset):\n",
    "    def __init__(self, data, transform=None):\n",
    "        self.data = data\n",
    "        self.transform = transform\n",
    "\n",
    "    def __len__(self):\n",
    "        return len(self.data)\n",
    "\n",
    "    def __getitem__(self, idx):\n",
    "        sample = self.data[idx]\n",
    "        if self.transform:\n",
    "            sample = self.transform(sample)\n",
    "        return sample\n",
    "\n",
    "train_dataset = FourierDataset(batched_data)\n",
    "test_dataset = FourierDataset(batched_data)\n",
    "\n",
    "\n",
    "# data loader\n",
    "train_loader = DataLoader(train_dataset, batch_size=100, shuffle=True)\n",
    "test_loader = DataLoader(test_dataset, batch_size=100, shuffle=True)\n"
   ]
  },
  {
   "cell_type": "code",
   "execution_count": null,
   "metadata": {},
   "outputs": [],
   "source": [
    "# create an instance of the network\n",
    "model = Net(dims).double()\n",
    "\n",
    "# define the loss function and optimizer\n",
    "criterion = nn.CrossEntropyLoss()\n",
    "optimizer = optim.SGD(model.parameters(), lr=0.001)\n",
    "\n",
    "# run one forward pass on the first item in the train_loader\n",
    "# print(train_labels[0].item())\n",
    "train_data_iter = iter(train_loader)\n",
    "train_data = next(train_data_iter)\n"
   ]
  },
  {
   "cell_type": "code",
   "execution_count": null,
   "metadata": {},
   "outputs": [],
   "source": [
    "def train(model, train_loader, criterion, optimizer, epochs):\n",
    "    model.train()\n",
    "    for epoch in range(epochs):\n",
    "        running_loss = 0.0\n",
    "        for i, data in enumerate(train_loader, 0):\n",
    "            inputs = data.double()\n",
    "            labels = data\n",
    "            optimizer.zero_grad()\n",
    "            outputs = model(inputs)\n",
    "            loss = criterion(outputs, labels)\n",
    "            loss.backward()\n",
    "            optimizer.step()\n",
    "            running_loss += loss.item()\n",
    "        print(f\"Epoch {epoch + 1}, Loss: {running_loss / len(train_loader)}\")\n",
    "    print('Finished Training')\n"
   ]
  },
  {
   "cell_type": "code",
   "execution_count": null,
   "metadata": {},
   "outputs": [],
   "source": [
    "# train the network\n",
    "train(model, train_loader, criterion, optimizer, 1000)\n",
    "\n",
    "# test the network\n",
    "test(model, test_loader)"
   ]
  },
  {
   "cell_type": "code",
   "execution_count": null,
   "metadata": {},
   "outputs": [],
   "source": [
    "print(test_labels[0].item())\n",
    "model.forward(test_data[0])\n",
    "print(torch.argmax(model.forward(test_data[0])).item())\n"
   ]
  },
  {
   "cell_type": "code",
   "execution_count": null,
   "metadata": {},
   "outputs": [],
   "source": [
    "# save the model\n",
    "torch.save(model.state_dict(), \"model.pt\")"
   ]
  },
  {
   "cell_type": "code",
   "execution_count": null,
   "metadata": {},
   "outputs": [],
   "source": [
    "# load the model if needed\n",
    "model = Net()\n",
    "model.load_state_dict(torch.load(\"model.pt\"))\n",
    "model.eval()"
   ]
  },
  {
   "cell_type": "code",
   "execution_count": null,
   "metadata": {},
   "outputs": [],
   "source": [
    "import csv\n",
    "\n",
    "user_input = []\n",
    "with open('user_input.csv', 'r') as csvfile:\n",
    "    reader = csv.reader(csvfile, delimiter=',')\n",
    "    for row in reader:\n",
    "        for i in range(0, len(row)):\n",
    "            row[i] = float(row[i])/255\n",
    "        user_input.append(row)\n",
    "\n",
    "user_input = torch.tensor(user_input)\n",
    "\n",
    "prediction = model.forward(user_input[0])\n",
    "\n",
    "# print prediction as dictionary of index: value to 2sf (rounded)\n",
    "prediction_dict = {}\n",
    "for i in range(0, len(prediction)):\n",
    "    prediction_dict[i] = round(prediction[i].item(), 2)\n",
    "print(prediction_dict)\n",
    "\n",
    "# bar chart of prediction\n",
    "plt.bar(range(len(prediction_dict)), list(prediction_dict.values()), align='center')\n",
    "\n",
    "\n",
    "# print index of max value\n",
    "print(torch.argmax(prediction).item())\n"
   ]
  }
 ],
 "metadata": {
  "kernelspec": {
   "display_name": "Python 3.9.6 ('MLenv': venv)",
   "language": "python",
   "name": "python3"
  },
  "language_info": {
   "codemirror_mode": {
    "name": "ipython",
    "version": 3
   },
   "file_extension": ".py",
   "mimetype": "text/x-python",
   "name": "python",
   "nbconvert_exporter": "python",
   "pygments_lexer": "ipython3",
   "version": "3.9.6"
  },
  "orig_nbformat": 4,
  "vscode": {
   "interpreter": {
    "hash": "1dd0732b7f5c9e9188618993b5310f665c617770fff3e23f5c61d6a39d02cdf6"
   }
  }
 },
 "nbformat": 4,
 "nbformat_minor": 2
}
