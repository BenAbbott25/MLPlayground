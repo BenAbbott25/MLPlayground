{
 "cells": [
  {
   "cell_type": "code",
   "execution_count": 2,
   "metadata": {},
   "outputs": [],
   "source": [
    "import wave\n",
    "import numpy as np\n",
    "\n",
    "# Parameters\n",
    "filename = \"random_noise.wav\"\n",
    "duration = 10  # Duration in seconds\n",
    "sample_rate = 44100  # Sample rate in Hz\n",
    "num_samples = int(duration * sample_rate)\n",
    "max_amplitude = 32767.0/10  # Maximum amplitude\n",
    "\n",
    "# Create a wave file\n",
    "wave_file = wave.open(filename, 'w')\n",
    "wave_file.setparams((1, 2, sample_rate, num_samples, 'NONE', 'not compressed'))\n",
    "\n",
    "# Generate random noise\n",
    "for _ in range(num_samples):\n",
    "    value = np.random.uniform(-max_amplitude, max_amplitude)\n",
    "    wave_file.writeframesraw(int(value).to_bytes(2, byteorder='little', signed=True))\n",
    "\n",
    "wave_file.close()\n"
   ]
  }
 ],
 "metadata": {
  "kernelspec": {
   "display_name": "MLenv",
   "language": "python",
   "name": "python3"
  },
  "language_info": {
   "codemirror_mode": {
    "name": "ipython",
    "version": 3
   },
   "file_extension": ".py",
   "mimetype": "text/x-python",
   "name": "python",
   "nbconvert_exporter": "python",
   "pygments_lexer": "ipython3",
   "version": "3.9.6"
  },
  "orig_nbformat": 4
 },
 "nbformat": 4,
 "nbformat_minor": 2
}
