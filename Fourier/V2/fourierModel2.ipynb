{
 "cells": [
  {
   "cell_type": "code",
   "execution_count": 1,
   "metadata": {},
   "outputs": [],
   "source": [
    "# imports\n",
    "\n",
    "import torch\n",
    "import torch.nn as nn\n",
    "import torch.optim as optim\n",
    "from torch.utils.data import DataLoader, Dataset\n",
    "from torch.optim.lr_scheduler import StepLR\n",
    "import numpy as np\n",
    "\n",
    "import matplotlib.pyplot as plt\n",
    "\n",
    "from fourierSeries import fourier\n",
    "from loadData import load_data\n",
    "\n",
    "order = 500\n",
    "filename = \"../Hello There (Obi Wan) - Sound Effect (HD).wav\"\n",
    "# filename = \"../sine_wave.wav\"\n",
    "batch_size = 500\n",
    "initial_learning_rate = 0.0001\n",
    "epochs = 10000\n",
    "gamma = 0.99\n",
    "sequencer_steps = 10\n",
    "learning_rate_params = {\"initial_learning_rate\": initial_learning_rate, \"gamma\": gamma, \"sequencer_steps\": sequencer_steps}\n"
   ]
  },
  {
   "cell_type": "code",
   "execution_count": 2,
   "metadata": {},
   "outputs": [
    {
     "name": "stdout",
     "output_type": "stream",
     "text": [
      "Loading data\n"
     ]
    }
   ],
   "source": [
    "# tests for imported modules\n",
    "# print(fourier(10, order))\n",
    "\n",
    "train_data, train_labels, test_data, test_labels = load_data(filename,order)\n",
    "\n",
    "# type of train_data\n",
    "print(\"train_data\")\n",
    "print(type(train_data))\n",
    "print(train_data.shape)\n",
    "\n",
    "# type of train_labels\n",
    "print(\"train_labels\")\n",
    "print(type(train_labels))\n",
    "print(train_labels.shape)\n",
    "\n",
    "# type of test_data\n",
    "print(\"test_data\")\n",
    "print(type(test_data))\n",
    "print(test_data.shape)\n",
    "\n",
    "# type of test_labels\n",
    "print(\"test_labels\")\n",
    "print(type(test_labels))\n",
    "print(test_labels.shape)"
   ]
  },
  {
   "cell_type": "code",
   "execution_count": null,
   "metadata": {},
   "outputs": [],
   "source": [
    "# Custom dataset class\n",
    "class CSVDataset(Dataset):\n",
    "    def __init__(self, data, labels):\n",
    "        self.data = data\n",
    "        self.labels = labels\n",
    "\n",
    "    def __len__(self):\n",
    "        return len(self.data)\n",
    "\n",
    "    def __getitem__(self, index):\n",
    "        x = self.data[index]\n",
    "        y = self.labels[index]\n",
    "        return x, y\n"
   ]
  },
  {
   "cell_type": "code",
   "execution_count": null,
   "metadata": {},
   "outputs": [],
   "source": [
    "class Net(nn.Module):\n",
    "    def __init__(self, order):\n",
    "        super().__init__()\n",
    "        self.dims = 2*order + 1\n",
    "        self.fc1 = nn.Linear(self.dims, self.dims)\n",
    "        self.fc2 = nn.Linear(self.dims, 1)\n",
    "\n",
    "    def forward(self, x):\n",
    "        x = torch.flatten(x, -1)\n",
    "        x = torch.relu(self.fc1(x))\n",
    "        x = torch.tanh(self.fc2(x))\n",
    "        return x"
   ]
  },
  {
   "cell_type": "code",
   "execution_count": null,
   "metadata": {},
   "outputs": [],
   "source": [
    "# data loader\n",
    "train_dataset = CSVDataset(train_data, train_labels)\n",
    "test_dataset = CSVDataset(test_data, test_labels)\n",
    "\n",
    "train_loader = DataLoader(train_dataset, batch_size=batch_size, shuffle=True)\n",
    "test_loader = DataLoader(test_dataset, batch_size=batch_size, shuffle=True)"
   ]
  },
  {
   "cell_type": "code",
   "execution_count": null,
   "metadata": {},
   "outputs": [],
   "source": [
    "# define the training function\n",
    "def train(model, train_loader, criterion, optimizer, epochs):\n",
    "    loss_list = []\n",
    "    scheduler = StepLR(optimizer, step_size=sequencer_steps, gamma=gamma)\n",
    "    for epoch in range(epochs+1):\n",
    "        for input, data in enumerate(train_loader):\n",
    "            input, labels = data\n",
    "            labels = labels.unsqueeze(1)\n",
    "            optimizer.zero_grad()\n",
    "            output = model(input) + 1e-10\n",
    "            loss = criterion(output, labels)\n",
    "            loss_list.append(loss.item())\n",
    "            loss.backward()\n",
    "            optimizer.step()\n",
    "        scheduler.step()\n",
    "\n",
    "        if epoch % 10 == 0:\n",
    "            print(\"Epoch: \" + str(epoch) + \", Loss: \" + str(min(loss.item(),10)) + \", Learning rate: \" + str(scheduler.get_last_lr()))\n",
    "        if epoch % 100 == 0:\n",
    "            print(\"Testing\")\n",
    "            test(model, test_loader)\n",
    "        if epoch % 1000 == 0:\n",
    "            print(\"Generating WAV\")\n",
    "            generateWAV(2,epoch)\n",
    "\n",
    "    print(\"Epoch: \" + str(epoch) + \", Loss: \" + str(loss.item()) + \", Learning rate: \" + str(scheduler.get_last_lr()))\n",
    "\n",
    "    # use matplotlib to plot the loss\n",
    "    plt.figure(figsize=(10,5))\n",
    "    plt.title(\"Training Loss over Time\")\n",
    "    plt.plot(loss_list, label=\"Training Loss\")\n",
    "    plt.xlabel(\"Epochs\")\n",
    "    plt.ylabel(\"Loss\")\n",
    "    plt.legend()\n",
    "    plt.show()\n",
    "                \n",
    "    print(\"Finished Training\")"
   ]
  },
  {
   "cell_type": "code",
   "execution_count": null,
   "metadata": {},
   "outputs": [],
   "source": [
    "# define the testing function\n",
    "\n",
    "def test(model, test_loader):\n",
    "    total_loss = 0\n",
    "    total_count = 0\n",
    "\n",
    "    with torch.no_grad():\n",
    "        for data, labels in test_loader:\n",
    "            output = model(data)\n",
    "            loss = (output - labels).pow(2).sum()\n",
    "            total_loss += loss.item()\n",
    "            total_count += labels.numel()\n",
    "            \n",
    "    print(f\"Average loss: {total_loss / total_count}\")\n"
   ]
  },
  {
   "cell_type": "code",
   "execution_count": null,
   "metadata": {},
   "outputs": [],
   "source": [
    "# create an instance of the network\n",
    "model = Net(order)\n",
    "\n",
    "print(model.fc1.weight.dtype)\n",
    "print(model.fc1.bias.dtype)\n",
    "print(train_data[0].dtype)\n",
    "\n",
    "# define the loss function and optimizer\n",
    "criterion = nn.MSELoss()\n",
    "# could integrate into train function to reduce lr over epochs\n",
    "# changing the optimizer to Adam\n",
    "optimizer = optim.Adam(model.parameters(), lr=initial_learning_rate)\n",
    "\n",
    "# run one forward pass on the first item in the train_loader\n",
    "print(train_labels[0].item())\n",
    "model.forward(train_data[0])"
   ]
  },
  {
   "cell_type": "code",
   "execution_count": null,
   "metadata": {},
   "outputs": [],
   "source": [
    "from generateWave import generate_wav\n",
    "\n",
    "def generateWAV(seconds,epoch):\n",
    "    new_wav_data = []\n",
    "    freq = 44100\n",
    "    for i in range(freq * seconds):\n",
    "        modelInput = torch.tensor(fourier(i, order), dtype=torch.float32)\n",
    "        modelOutput = model.forward(modelInput).item()\n",
    "        if modelOutput > 0:\n",
    "            modelOutput = max(modelOutput,32767.0)\n",
    "        if modelOutput < 0:\n",
    "            modelOutput = min(modelOutput,-32767.0)\n",
    "        new_wav_data.append(modelOutput)\n",
    "\n",
    "    generate_wav(f\"./WAV/new_wav_order_{order}_epoch_{epoch}.wav\", new_wav_data)\n"
   ]
  },
  {
   "cell_type": "code",
   "execution_count": null,
   "metadata": {},
   "outputs": [],
   "source": [
    "# train the network\n",
    "train(model, train_loader, criterion, optimizer, epochs)\n",
    "\n",
    "# test the network\n",
    "test(model, test_loader)"
   ]
  },
  {
   "cell_type": "code",
   "execution_count": null,
   "metadata": {},
   "outputs": [],
   "source": [
    "print(train_data[100])\n",
    "print(model.forward(train_data[100]))\n",
    "\n",
    "print(torch.tensor(fourier(100, order), dtype=torch.float32))\n",
    "print(model.forward(torch.tensor(fourier(100, order), dtype=torch.float32)))"
   ]
  },
  {
   "cell_type": "code",
   "execution_count": null,
   "metadata": {},
   "outputs": [],
   "source": [
    "# save the model\n",
    "torch.save(model.state_dict(), f\"fourierModel_order_{order}.pt\")\n"
   ]
  },
  {
   "cell_type": "code",
   "execution_count": null,
   "metadata": {},
   "outputs": [],
   "source": [
    "# load the model if needed\n",
    "model = Net(order)\n",
    "model.load_state_dict(torch.load(f\"fourierModel_order_{order}.pt\"))\n",
    "model.eval()"
   ]
  },
  {
   "cell_type": "code",
   "execution_count": null,
   "metadata": {},
   "outputs": [],
   "source": [
    "\n",
    "\n",
    "generateWAV(2,\"final\")\n",
    "\n"
   ]
  }
 ],
 "metadata": {
  "kernelspec": {
   "display_name": "Python 3.9.6 ('MLenv': venv)",
   "language": "python",
   "name": "python3"
  },
  "language_info": {
   "codemirror_mode": {
    "name": "ipython",
    "version": 3
   },
   "file_extension": ".py",
   "mimetype": "text/x-python",
   "name": "python",
   "nbconvert_exporter": "python",
   "pygments_lexer": "ipython3",
   "version": "3.9.6"
  },
  "orig_nbformat": 4,
  "vscode": {
   "interpreter": {
    "hash": "1dd0732b7f5c9e9188618993b5310f665c617770fff3e23f5c61d6a39d02cdf6"
   }
  }
 },
 "nbformat": 4,
 "nbformat_minor": 2
}
