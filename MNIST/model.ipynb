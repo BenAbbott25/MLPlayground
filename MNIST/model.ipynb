{
 "cells": [
  {
   "cell_type": "code",
   "execution_count": 1,
   "metadata": {},
   "outputs": [],
   "source": [
    "# imports\n",
    "\n",
    "import torch\n",
    "import torch.nn as nn\n",
    "import torch.optim as optim\n",
    "from torch.utils.data import DataLoader, Dataset\n",
    "\n",
    "import matplotlib.pyplot as plt"
   ]
  },
  {
   "cell_type": "code",
   "execution_count": 2,
   "metadata": {
    "tags": []
   },
   "outputs": [
    {
     "name": "stdout",
     "output_type": "stream",
     "text": [
      "Loading data\n",
      "Data loaded\n",
      "train_data\n",
      "<class 'torch.Tensor'>\n",
      "torch.Size([60000, 784])\n",
      "train_labels\n",
      "<class 'torch.Tensor'>\n",
      "torch.Size([60000])\n",
      "test_data\n",
      "<class 'torch.Tensor'>\n",
      "torch.Size([10000, 784])\n",
      "test_labels\n",
      "<class 'torch.Tensor'>\n",
      "torch.Size([10000])\n"
     ]
    }
   ],
   "source": [
    "# import load_data function from loadData.py\n",
    "from loadData import load_data\n",
    "\n",
    "train_data, train_labels, test_data, test_labels = load_data()\n",
    "\n",
    "\n",
    "# type of train_data\n",
    "print(\"train_data\")\n",
    "print(type(train_data))\n",
    "print(train_data.shape)\n",
    "\n",
    "# type of train_labels\n",
    "print(\"train_labels\")\n",
    "print(type(train_labels))\n",
    "print(train_labels.shape)\n",
    "\n",
    "# type of test_data\n",
    "print(\"test_data\")\n",
    "print(type(test_data))\n",
    "print(test_data.shape)\n",
    "\n",
    "# type of test_labels\n",
    "print(\"test_labels\")\n",
    "print(type(test_labels))\n",
    "print(test_labels.shape)"
   ]
  },
  {
   "cell_type": "code",
   "execution_count": 3,
   "metadata": {},
   "outputs": [],
   "source": [
    "# Custom dataset class\n",
    "class CSVDataset(Dataset):\n",
    "    def __init__(self, data, labels):\n",
    "        self.data = data\n",
    "        self.labels = labels\n",
    "\n",
    "    def __len__(self):\n",
    "        return len(self.data)\n",
    "\n",
    "    def __getitem__(self, index):\n",
    "        x = self.data[index]\n",
    "        y = self.labels[index]\n",
    "        return x, y\n"
   ]
  },
  {
   "cell_type": "code",
   "execution_count": 4,
   "metadata": {},
   "outputs": [],
   "source": [
    "# define the network class\n",
    "\n",
    "class Net(nn.Module):\n",
    "    def __init__(self):\n",
    "        super().__init__()\n",
    "        self.fc1 = nn.Linear(784, 128)\n",
    "        self.fc2 = nn.Linear(128, 128)\n",
    "        self.fc3 = nn.Linear(128, 128)\n",
    "        self.fc4 = nn.Linear(128, 64)\n",
    "        self.fc5 = nn.Linear(64, 10)\n",
    "\n",
    "\n",
    "    def forward(self, x):\n",
    "        x = torch.flatten(x, -1)\n",
    "        x = torch.relu(self.fc1(x))\n",
    "        x = torch.relu(self.fc2(x))\n",
    "        x = torch.relu(self.fc3(x))\n",
    "        x = torch.relu(self.fc4(x))\n",
    "        x = self.fc5(x)\n",
    "        return x"
   ]
  },
  {
   "cell_type": "code",
   "execution_count": 10,
   "metadata": {},
   "outputs": [],
   "source": [
    "# define the training function\n",
    "\n",
    "def train(model, train_loader, criterion, optimizer, epochs):\n",
    "    loss_list = []\n",
    "    for epoch in range(epochs):\n",
    "        for input, data in enumerate(train_loader):\n",
    "            input, labels = data\n",
    "            optimizer.zero_grad()\n",
    "            output = model(input)\n",
    "            loss = criterion(output, labels)\n",
    "            loss_list.append(loss.item())\n",
    "            loss.backward()\n",
    "            optimizer.step()\n",
    "        \n",
    "        if epoch % 10 == 0:\n",
    "            print(\"Epoch: \" + str(epoch) + \", Loss: \" + str(loss.item()))\n",
    "    print(\"Epoch: \" + str(epoch) + \", Loss: \" + str(loss.item()))\n",
    "\n",
    "    # use matplotlib to plot the loss\n",
    "    plt.plot(loss_list)\n",
    "                \n",
    "    print(\"Finished Training\")"
   ]
  },
  {
   "cell_type": "code",
   "execution_count": 6,
   "metadata": {},
   "outputs": [],
   "source": [
    "# define the testing function\n",
    "\n",
    "def test(model, test_loader):\n",
    "    correct = 0\n",
    "    total = 0\n",
    "\n",
    "    with torch.no_grad():\n",
    "        for data, labels in test_loader:\n",
    "            output = model(data)\n",
    "            _, predicted = torch.max(output.data, 1)\n",
    "            total += labels.size(0)\n",
    "            correct += (predicted == labels).sum().item()\n",
    "            \n",
    "    print(f\"Accuracy: {correct / total}\")"
   ]
  },
  {
   "cell_type": "code",
   "execution_count": 14,
   "metadata": {},
   "outputs": [],
   "source": [
    "# data loader\n",
    "train_dataset = CSVDataset(train_data, train_labels)\n",
    "test_dataset = CSVDataset(test_data, test_labels)\n",
    "\n",
    "train_loader = DataLoader(train_dataset, batch_size=100, shuffle=True)\n",
    "test_loader = DataLoader(test_dataset, batch_size=100, shuffle=True)"
   ]
  },
  {
   "cell_type": "code",
   "execution_count": 12,
   "metadata": {},
   "outputs": [
    {
     "name": "stdout",
     "output_type": "stream",
     "text": [
      "5\n"
     ]
    },
    {
     "data": {
      "text/plain": [
       "tensor([-0.1264,  0.0767,  0.0328,  0.0035,  0.0867, -0.0513, -0.0942,  0.0360,\n",
       "        -0.0678, -0.0979], grad_fn=<AddBackward0>)"
      ]
     },
     "execution_count": 12,
     "metadata": {},
     "output_type": "execute_result"
    }
   ],
   "source": [
    "# create an instance of the network\n",
    "model = Net()\n",
    "\n",
    "# define the loss function and optimizer\n",
    "criterion = nn.CrossEntropyLoss()\n",
    "optimizer = optim.SGD(model.parameters(), lr=0.001)\n",
    "\n",
    "# run one forward pass on the first item in the train_loader\n",
    "print(train_labels[0].item())\n",
    "model.forward(train_data[0])\n"
   ]
  },
  {
   "cell_type": "code",
   "execution_count": 18,
   "metadata": {},
   "outputs": [
    {
     "name": "stdout",
     "output_type": "stream",
     "text": [
      "Epoch: 0, Loss: 0.05629037693142891\n",
      "Epoch: 10, Loss: 0.09469635039567947\n",
      "Epoch: 20, Loss: 0.09676417708396912\n",
      "Epoch: 30, Loss: 0.09439288824796677\n",
      "Epoch: 40, Loss: 0.15678365528583527\n",
      "Epoch: 50, Loss: 0.03727166727185249\n",
      "Epoch: 60, Loss: 0.0880194753408432\n",
      "Epoch: 70, Loss: 0.07813089340925217\n",
      "Epoch: 80, Loss: 0.12281881272792816\n",
      "Epoch: 90, Loss: 0.07543227076530457\n",
      "Epoch: 100, Loss: 0.05316409468650818\n",
      "Epoch: 110, Loss: 0.08243250846862793\n",
      "Epoch: 120, Loss: 0.05761351063847542\n",
      "Epoch: 130, Loss: 0.0703040361404419\n",
      "Epoch: 140, Loss: 0.08171405643224716\n",
      "Epoch: 150, Loss: 0.04136393219232559\n",
      "Epoch: 160, Loss: 0.0617557018995285\n",
      "Epoch: 170, Loss: 0.023144686594605446\n",
      "Epoch: 180, Loss: 0.036279842257499695\n",
      "Epoch: 190, Loss: 0.011985897086560726\n",
      "Epoch: 200, Loss: 0.015489114448428154\n",
      "Epoch: 210, Loss: 0.07816880941390991\n",
      "Epoch: 220, Loss: 0.11373360455036163\n",
      "Epoch: 230, Loss: 0.11999505758285522\n",
      "Epoch: 240, Loss: 0.008635402657091618\n",
      "Epoch: 250, Loss: 0.017617253586649895\n",
      "Epoch: 260, Loss: 0.013479672372341156\n",
      "Epoch: 270, Loss: 0.06494378298521042\n",
      "Epoch: 280, Loss: 0.014715040102601051\n",
      "Epoch: 290, Loss: 0.028777439147233963\n",
      "Epoch: 300, Loss: 0.03784022107720375\n",
      "Epoch: 310, Loss: 0.02661338821053505\n",
      "Epoch: 320, Loss: 0.03986457735300064\n",
      "Epoch: 330, Loss: 0.018621403723955154\n",
      "Epoch: 340, Loss: 0.014719972386956215\n",
      "Epoch: 350, Loss: 0.015443828888237476\n",
      "Epoch: 360, Loss: 0.024778295308351517\n",
      "Epoch: 370, Loss: 0.02132146805524826\n",
      "Epoch: 380, Loss: 0.009075872600078583\n",
      "Epoch: 390, Loss: 0.005966073367744684\n",
      "Epoch: 400, Loss: 0.005999512504786253\n",
      "Epoch: 410, Loss: 0.01014187466353178\n",
      "Epoch: 420, Loss: 0.008099797181785107\n",
      "Epoch: 430, Loss: 0.004674774594604969\n",
      "Epoch: 440, Loss: 0.01897077076137066\n",
      "Epoch: 450, Loss: 0.013995005749166012\n",
      "Epoch: 460, Loss: 0.00937328115105629\n",
      "Epoch: 470, Loss: 0.00451836921274662\n",
      "Epoch: 480, Loss: 0.008813595399260521\n",
      "Epoch: 490, Loss: 0.003938343375921249\n",
      "Epoch: 500, Loss: 0.008837606757879257\n",
      "Epoch: 510, Loss: 0.012867345474660397\n",
      "Epoch: 520, Loss: 0.020391253754496574\n",
      "Epoch: 530, Loss: 0.009549339301884174\n",
      "Epoch: 540, Loss: 0.006793877575546503\n",
      "Epoch: 550, Loss: 0.004500241484493017\n",
      "Epoch: 560, Loss: 0.002479936694726348\n",
      "Epoch: 570, Loss: 0.0009494966361671686\n",
      "Epoch: 580, Loss: 0.006939135026186705\n",
      "Epoch: 590, Loss: 0.004048288334161043\n",
      "Epoch: 600, Loss: 0.010486659593880177\n",
      "Epoch: 610, Loss: 0.004109167959541082\n",
      "Epoch: 620, Loss: 0.003324293764308095\n",
      "Epoch: 630, Loss: 0.0008928711758926511\n",
      "Epoch: 640, Loss: 0.003918492700904608\n",
      "Epoch: 650, Loss: 0.0038593164645135403\n",
      "Epoch: 660, Loss: 0.0022839836310595274\n",
      "Epoch: 670, Loss: 0.0023926589637994766\n",
      "Epoch: 680, Loss: 0.004132051952183247\n",
      "Epoch: 690, Loss: 0.005685148295015097\n",
      "Epoch: 700, Loss: 0.0038365782238543034\n",
      "Epoch: 710, Loss: 0.0037221494130790234\n",
      "Epoch: 720, Loss: 0.003574829315766692\n",
      "Epoch: 730, Loss: 0.003936530090868473\n",
      "Epoch: 740, Loss: 0.0028195378836244345\n",
      "Epoch: 750, Loss: 0.002821357222273946\n",
      "Epoch: 760, Loss: 0.005547885317355394\n",
      "Epoch: 770, Loss: 0.0019825417548418045\n",
      "Epoch: 780, Loss: 0.0007187018054537475\n",
      "Epoch: 790, Loss: 0.004771956708282232\n",
      "Epoch: 800, Loss: 0.0019255545921623707\n",
      "Epoch: 810, Loss: 0.001629719976335764\n",
      "Epoch: 820, Loss: 0.0014458898222073913\n",
      "Epoch: 830, Loss: 0.002431456232443452\n",
      "Epoch: 840, Loss: 0.0026312312111258507\n",
      "Epoch: 850, Loss: 0.001345495693385601\n",
      "Epoch: 860, Loss: 0.006415951065719128\n",
      "Epoch: 870, Loss: 0.0003940081223845482\n",
      "Epoch: 880, Loss: 0.0030661383643746376\n",
      "Epoch: 890, Loss: 0.0011647387873381376\n",
      "Epoch: 900, Loss: 0.0010988982394337654\n",
      "Epoch: 910, Loss: 0.001875789137557149\n",
      "Epoch: 920, Loss: 0.0005574507522396743\n",
      "Epoch: 930, Loss: 0.0018057754496112466\n",
      "Epoch: 940, Loss: 0.000826893316116184\n",
      "Epoch: 950, Loss: 0.00200836593285203\n",
      "Epoch: 960, Loss: 0.0018776239594444633\n",
      "Epoch: 970, Loss: 0.0027510011568665504\n",
      "Epoch: 980, Loss: 0.00230169715359807\n",
      "Epoch: 990, Loss: 0.0017371565336361527\n",
      "Epoch: 999, Loss: 0.001986502669751644\n",
      "Finished Training\n",
      "Accuracy: 0.9732\n"
     ]
    },
    {
     "data": {
      "image/png": "[encoded data removed]",
      "text/plain": [
       "<Figure size 640x480 with 1 Axes>"
      ]
     },
     "metadata": {},
     "output_type": "display_data"
    }
   ],
   "source": [
    "# train the network\n",
    "train(model, train_loader, criterion, optimizer, 1000)\n",
    "\n",
    "# test the network\n",
    "test(model, test_loader)"
   ]
  },
  {
   "cell_type": "code",
   "execution_count": 20,
   "metadata": {},
   "outputs": [
    {
     "name": "stdout",
     "output_type": "stream",
     "text": [
      "7\n",
      "7\n"
     ]
    }
   ],
   "source": [
    "print(test_labels[0].item())\n",
    "model.forward(test_data[0])\n",
    "print(torch.argmax(model.forward(test_data[0])).item())\n"
   ]
  },
  {
   "cell_type": "code",
   "execution_count": 21,
   "metadata": {},
   "outputs": [],
   "source": [
    "# save the model\n",
    "torch.save(model.state_dict(), \"model.pt\")"
   ]
  },
  {
   "cell_type": "code",
   "execution_count": 22,
   "metadata": {},
   "outputs": [
    {
     "data": {
      "text/plain": [
       "Net(\n",
       "  (fc1): Linear(in_features=784, out_features=128, bias=True)\n",
       "  (fc2): Linear(in_features=128, out_features=128, bias=True)\n",
       "  (fc3): Linear(in_features=128, out_features=128, bias=True)\n",
       "  (fc4): Linear(in_features=128, out_features=64, bias=True)\n",
       "  (fc5): Linear(in_features=64, out_features=10, bias=True)\n",
       ")"
      ]
     },
     "execution_count": 22,
     "metadata": {},
     "output_type": "execute_result"
    }
   ],
   "source": [
    "# load the model if needed\n",
    "model = Net()\n",
    "model.load_state_dict(torch.load(\"model.pt\"))\n",
    "model.eval()"
   ]
  },
  {
   "cell_type": "code",
   "execution_count": 23,
   "metadata": {},
   "outputs": [
    {
     "name": "stdout",
     "output_type": "stream",
     "text": [
      "{0: -23.29, 1: 13.46, 2: 7.5, 3: 12.23, 4: -19.03, 5: -5.28, 6: -35.03, 7: 31.6, 8: 0.61, 9: 8.0}\n",
      "7\n"
     ]
    },
    {
     "data": {
      "image/png": "[encoded data removed]",
      "text/plain": [
       "<Figure size 640x480 with 1 Axes>"
      ]
     },
     "metadata": {},
     "output_type": "display_data"
    }
   ],
   "source": [
    "import csv\n",
    "\n",
    "user_input = []\n",
    "with open('user_input.csv', 'r') as csvfile:\n",
    "    reader = csv.reader(csvfile, delimiter=',')\n",
    "    for row in reader:\n",
    "        for i in range(0, len(row)):\n",
    "            row[i] = float(row[i])/255\n",
    "        user_input.append(row)\n",
    "\n",
    "user_input = torch.tensor(user_input)\n",
    "\n",
    "prediction = model.forward(user_input[0])\n",
    "\n",
    "# print prediction as dictionary of index: value to 2sf (rounded)\n",
    "prediction_dict = {}\n",
    "for i in range(0, len(prediction)):\n",
    "    prediction_dict[i] = round(prediction[i].item(), 2)\n",
    "print(prediction_dict)\n",
    "\n",
    "# bar chart of prediction\n",
    "plt.bar(range(len(prediction_dict)), list(prediction_dict.values()), align='center')\n",
    "\n",
    "\n",
    "# print index of max value\n",
    "print(torch.argmax(prediction).item())\n"
   ]
  }
 ],
 "metadata": {
  "kernelspec": {
   "display_name": "Python 3.9.6 ('MLenv': venv)",
   "language": "python",
   "name": "python3"
  },
  "language_info": {
   "codemirror_mode": {
    "name": "ipython",
    "version": 3
   },
   "file_extension": ".py",
   "mimetype": "text/x-python",
   "name": "python",
   "nbconvert_exporter": "python",
   "pygments_lexer": "ipython3",
   "version": "3.9.6"
  },
  "orig_nbformat": 4,
  "vscode": {
   "interpreter": {
    "hash": "1dd0732b7f5c9e9188618993b5310f665c617770fff3e23f5c61d6a39d02cdf6"
   }
  }
 },
 "nbformat": 4,
 "nbformat_minor": 2
}
