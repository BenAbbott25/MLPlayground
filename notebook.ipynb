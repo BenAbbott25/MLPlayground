{
 "cells": [
  {
   "cell_type": "code",
   "execution_count": 1,
   "metadata": {},
   "outputs": [
    {
     "name": "stdout",
     "output_type": "stream",
     "text": [
      "Loading data\n",
      "Data loaded\n"
     ]
    }
   ],
   "source": [
    "# import load_data function from loadData.py\n",
    "from loadData import load_data\n",
    "\n",
    "train_data, train_labels, test_data, test_labels = load_data()"
   ]
  },
  {
   "cell_type": "code",
   "execution_count": 2,
   "metadata": {},
   "outputs": [
    {
     "name": "stdout",
     "output_type": "stream",
     "text": [
      "Test function\n",
      "Hello World\n"
     ]
    }
   ],
   "source": [
    "import torch\n",
    "from torchNetFunctions import test, add\n",
    "\n",
    "test(\"Hello World\")\n",
    "add(1, 2)\n",
    "\n",
    "\n"
   ]
  }
 ],
 "metadata": {
  "kernelspec": {
   "display_name": "Python 3.9.6 ('MLenv': venv)",
   "language": "python",
   "name": "python3"
  },
  "language_info": {
   "codemirror_mode": {
    "name": "ipython",
    "version": 3
   },
   "file_extension": ".py",
   "mimetype": "text/x-python",
   "name": "python",
   "nbconvert_exporter": "python",
   "pygments_lexer": "ipython3",
   "version": "3.9.6"
  },
  "orig_nbformat": 4,
  "vscode": {
   "interpreter": {
    "hash": "1dd0732b7f5c9e9188618993b5310f665c617770fff3e23f5c61d6a39d02cdf6"
   }
  }
 },
 "nbformat": 4,
 "nbformat_minor": 2
}
