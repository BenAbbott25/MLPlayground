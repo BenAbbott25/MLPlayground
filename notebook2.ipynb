{
 "cells": [
  {
   "cell_type": "code",
   "execution_count": 1,
   "metadata": {},
   "outputs": [],
   "source": [
    "# imports\n",
    "\n",
    "import torch\n",
    "import torch.nn as nn\n",
    "import torch.optim as optim\n",
    "from torch.utils.data import DataLoader, Dataset"
   ]
  },
  {
   "cell_type": "code",
   "execution_count": 2,
   "metadata": {
    "tags": []
   },
   "outputs": [
    {
     "name": "stdout",
     "output_type": "stream",
     "text": [
      "Loading data\n",
      "Data loaded\n",
      "train_data\n",
      "<class 'torch.Tensor'>\n",
      "torch.Size([60000, 784])\n",
      "train_labels\n",
      "<class 'torch.Tensor'>\n",
      "torch.Size([60000])\n",
      "test_data\n",
      "<class 'torch.Tensor'>\n",
      "torch.Size([10000, 784])\n",
      "test_labels\n",
      "<class 'torch.Tensor'>\n",
      "torch.Size([10000])\n"
     ]
    }
   ],
   "source": [
    "# import load_data function from loadData.py\n",
    "from loadData import load_data\n",
    "\n",
    "train_data, train_labels, test_data, test_labels = load_data()\n",
    "\n",
    "\n",
    "# type of train_data\n",
    "print(\"train_data\")\n",
    "print(type(train_data))\n",
    "print(train_data.shape)\n",
    "\n",
    "# type of train_labels\n",
    "print(\"train_labels\")\n",
    "print(type(train_labels))\n",
    "print(train_labels.shape)\n",
    "\n",
    "# type of test_data\n",
    "print(\"test_data\")\n",
    "print(type(test_data))\n",
    "print(test_data.shape)\n",
    "\n",
    "# type of test_labels\n",
    "print(\"test_labels\")\n",
    "print(type(test_labels))\n",
    "print(test_labels.shape)"
   ]
  },
  {
   "cell_type": "code",
   "execution_count": 3,
   "metadata": {},
   "outputs": [],
   "source": [
    "# Custom dataset class\n",
    "class CSVDataset(Dataset):\n",
    "    def __init__(self, data, labels):\n",
    "        self.data = data\n",
    "        self.labels = labels\n",
    "\n",
    "    def __len__(self):\n",
    "        return len(self.data)\n",
    "\n",
    "    def __getitem__(self, index):\n",
    "        x = self.data[index]\n",
    "        y = self.labels[index]\n",
    "        return x, y\n"
   ]
  },
  {
   "cell_type": "code",
   "execution_count": 4,
   "metadata": {},
   "outputs": [],
   "source": [
    "# define the network class\n",
    "\n",
    "class Net(nn.Module):\n",
    "    def __init__(self):\n",
    "        super().__init__()\n",
    "        self.fc1 = nn.Linear(784, 128)\n",
    "        self.fc2 = nn.Linear(128, 64)\n",
    "        self.fc3 = nn.Linear(64, 10)\n",
    "\n",
    "    def forward(self, x):\n",
    "        x = torch.flatten(x, -1)\n",
    "        x = torch.relu(self.fc1(x))\n",
    "        x = torch.relu(self.fc2(x))\n",
    "        x = self.fc3(x)\n",
    "        return x"
   ]
  },
  {
   "cell_type": "code",
   "execution_count": 22,
   "metadata": {},
   "outputs": [],
   "source": [
    "# define the training function\n",
    "\n",
    "def train(model, train_loader, criterion, optimizer, epochs):\n",
    "    for epoch in range(epochs):\n",
    "        print(\"Epoch: \" + str(epoch))\n",
    "        for input, data in enumerate(train_loader):\n",
    "            input, labels = data\n",
    "            optimizer.zero_grad()\n",
    "            output = model(input)\n",
    "            loss = criterion(output, labels)\n",
    "            loss.backward()\n",
    "            optimizer.step()\n",
    "            if epoch+1 % 10 == 0:\n",
    "                print(\"Epoch: \" + str(epoch) + \", Loss: \" + str(loss.item()))\n",
    "                \n",
    "    print(\"Finished Training\")"
   ]
  },
  {
   "cell_type": "code",
   "execution_count": 6,
   "metadata": {},
   "outputs": [],
   "source": [
    "# define the testing function\n",
    "\n",
    "def test(model, test_loader):\n",
    "    correct = 0\n",
    "    total = 0\n",
    "\n",
    "    with torch.no_grad():\n",
    "        for data, labels in test_loader:\n",
    "            output = model(data)\n",
    "            _, predicted = torch.max(output.data, 1)\n",
    "            total += labels.size(0)\n",
    "            correct += (predicted == labels).sum().item()\n",
    "            \n",
    "    print(f\"Accuracy: {correct / total}\")"
   ]
  },
  {
   "cell_type": "code",
   "execution_count": 7,
   "metadata": {},
   "outputs": [],
   "source": [
    "# data loader\n",
    "train_dataset = CSVDataset(train_data, train_labels)\n",
    "test_dataset = CSVDataset(test_data, test_labels)\n",
    "\n",
    "train_loader = DataLoader(train_dataset, batch_size=100, shuffle=True)\n",
    "test_loader = DataLoader(test_dataset, batch_size=100, shuffle=True)"
   ]
  },
  {
   "cell_type": "code",
   "execution_count": 8,
   "metadata": {},
   "outputs": [
    {
     "data": {
      "text/plain": [
       "tensor([-0.0490,  0.1102,  0.0091,  0.0427, -0.0641,  0.0485, -0.1334,  0.0859,\n",
       "        -0.0239, -0.0610], grad_fn=<AddBackward0>)"
      ]
     },
     "execution_count": 8,
     "metadata": {},
     "output_type": "execute_result"
    }
   ],
   "source": [
    "# create an instance of the network\n",
    "model = Net()\n",
    "\n",
    "# define the loss function and optimizer\n",
    "criterion = nn.CrossEntropyLoss()\n",
    "optimizer = optim.SGD(model.parameters(), lr=0.01)\n",
    "\n",
    "# run one forward and backward pass on the first item in the train_loader\n",
    "model.forward(train_data[0])\n"
   ]
  },
  {
   "cell_type": "code",
   "execution_count": 23,
   "metadata": {},
   "outputs": [
    {
     "ename": "TypeError",
     "evalue": "unsupported operand type(s) for +: 'range' and 'int'",
     "output_type": "error",
     "traceback": [
      "\u001b[0;31m---------------------------------------------------------------------------\u001b[0m",
      "\u001b[0;31mTypeError\u001b[0m                                 Traceback (most recent call last)",
      "Cell \u001b[0;32mIn[23], line 2\u001b[0m\n\u001b[1;32m      1\u001b[0m \u001b[39m# train the network\u001b[39;00m\n\u001b[0;32m----> 2\u001b[0m train(model, train_loader, criterion, optimizer, \u001b[39m50\u001b[39;49m)\n\u001b[1;32m      4\u001b[0m \u001b[39m# test the network\u001b[39;00m\n\u001b[1;32m      5\u001b[0m test(model, test_loader)\n",
      "Cell \u001b[0;32mIn[22], line 4\u001b[0m, in \u001b[0;36mtrain\u001b[0;34m(model, train_loader, criterion, optimizer, epochs)\u001b[0m\n\u001b[1;32m      3\u001b[0m \u001b[39mdef\u001b[39;00m \u001b[39mtrain\u001b[39m(model, train_loader, criterion, optimizer, epochs):\n\u001b[0;32m----> 4\u001b[0m     \u001b[39mfor\u001b[39;00m epoch \u001b[39min\u001b[39;00m \u001b[39mrange\u001b[39;49m(epochs)\u001b[39m+\u001b[39;49m\u001b[39m1\u001b[39;49m:\n\u001b[1;32m      5\u001b[0m         \u001b[39mprint\u001b[39m(\u001b[39m\"\u001b[39m\u001b[39mEpoch: \u001b[39m\u001b[39m\"\u001b[39m \u001b[39m+\u001b[39m \u001b[39mstr\u001b[39m(epoch))\n\u001b[1;32m      6\u001b[0m         \u001b[39mfor\u001b[39;00m \u001b[39minput\u001b[39m, data \u001b[39min\u001b[39;00m \u001b[39menumerate\u001b[39m(train_loader):\n",
      "\u001b[0;31mTypeError\u001b[0m: unsupported operand type(s) for +: 'range' and 'int'"
     ]
    }
   ],
   "source": [
    "# train the network\n",
    "train(model, train_loader, criterion, optimizer, 50)\n",
    "\n",
    "# test the network\n",
    "test(model, test_loader)"
   ]
  }
 ],
 "metadata": {
  "kernelspec": {
   "display_name": "Python 3.9.6 ('MLenv': venv)",
   "language": "python",
   "name": "python3"
  },
  "language_info": {
   "codemirror_mode": {
    "name": "ipython",
    "version": 3
   },
   "file_extension": ".py",
   "mimetype": "text/x-python",
   "name": "python",
   "nbconvert_exporter": "python",
   "pygments_lexer": "ipython3",
   "version": "3.9.6"
  },
  "orig_nbformat": 4,
  "vscode": {
   "interpreter": {
    "hash": "1dd0732b7f5c9e9188618993b5310f665c617770fff3e23f5c61d6a39d02cdf6"
   }
  }
 },
 "nbformat": 4,
 "nbformat_minor": 2
}
