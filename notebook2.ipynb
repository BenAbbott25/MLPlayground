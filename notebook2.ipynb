{
 "cells": [
  {
   "cell_type": "code",
   "execution_count": null,
   "metadata": {},
   "outputs": [],
   "source": [
    "# imports\n",
    "\n",
    "import torch\n",
    "import torch.nn as nn\n",
    "import torch.optim as optim\n",
    "from torch.utils.data import DataLoader, Dataset\n",
    "\n",
    "import matplotlib.pyplot as plt"
   ]
  },
  {
   "cell_type": "code",
   "execution_count": null,
   "metadata": {
    "tags": []
   },
   "outputs": [],
   "source": [
    "# import load_data function from loadData.py\n",
    "from loadData import load_data\n",
    "\n",
    "train_data, train_labels, test_data, test_labels = load_data()\n",
    "\n",
    "\n",
    "# type of train_data\n",
    "print(\"train_data\")\n",
    "print(type(train_data))\n",
    "print(train_data.shape)\n",
    "\n",
    "# type of train_labels\n",
    "print(\"train_labels\")\n",
    "print(type(train_labels))\n",
    "print(train_labels.shape)\n",
    "\n",
    "# type of test_data\n",
    "print(\"test_data\")\n",
    "print(type(test_data))\n",
    "print(test_data.shape)\n",
    "\n",
    "# type of test_labels\n",
    "print(\"test_labels\")\n",
    "print(type(test_labels))\n",
    "print(test_labels.shape)"
   ]
  },
  {
   "cell_type": "code",
   "execution_count": null,
   "metadata": {},
   "outputs": [],
   "source": [
    "# Custom dataset class\n",
    "class CSVDataset(Dataset):\n",
    "    def __init__(self, data, labels):\n",
    "        self.data = data\n",
    "        self.labels = labels\n",
    "\n",
    "    def __len__(self):\n",
    "        return len(self.data)\n",
    "\n",
    "    def __getitem__(self, index):\n",
    "        x = self.data[index]\n",
    "        y = self.labels[index]\n",
    "        return x, y\n"
   ]
  },
  {
   "cell_type": "code",
   "execution_count": null,
   "metadata": {},
   "outputs": [],
   "source": [
    "# define the network class\n",
    "\n",
    "class Net(nn.Module):\n",
    "    def __init__(self):\n",
    "        super().__init__()\n",
    "        self.fc1 = nn.Linear(784, 128)\n",
    "        self.fc2 = nn.Linear(128, 64)\n",
    "        self.fc3 = nn.Linear(64, 10)\n",
    "\n",
    "    def forward(self, x):\n",
    "        x = torch.flatten(x, -1)\n",
    "        x = torch.relu(self.fc1(x))\n",
    "        x = torch.relu(self.fc2(x))\n",
    "        x = self.fc3(x)\n",
    "        return x"
   ]
  },
  {
   "cell_type": "code",
   "execution_count": null,
   "metadata": {},
   "outputs": [],
   "source": [
    "# define the training function\n",
    "\n",
    "def train(model, train_loader, criterion, optimizer, epochs):\n",
    "    loss_list = []\n",
    "    for epoch in range(epochs):\n",
    "        for input, data in enumerate(train_loader):\n",
    "            input, labels = data\n",
    "            optimizer.zero_grad()\n",
    "            output = model(input)\n",
    "            loss = criterion(output, labels)\n",
    "            loss_list.append(loss.item())\n",
    "            loss.backward()\n",
    "            optimizer.step()\n",
    "            if epoch % 10 == 0:\n",
    "                print(\"Epoch: \" + str(epoch) + \", Loss: \" + str(loss.item()))\n",
    "\n",
    "    # use matplotlib to plot the loss\n",
    "    plt.plot(loss_list)\n",
    "                \n",
    "    print(\"Finished Training\")"
   ]
  },
  {
   "cell_type": "code",
   "execution_count": null,
   "metadata": {},
   "outputs": [],
   "source": [
    "# define the testing function\n",
    "\n",
    "def test(model, test_loader):\n",
    "    correct = 0\n",
    "    total = 0\n",
    "\n",
    "    with torch.no_grad():\n",
    "        for data, labels in test_loader:\n",
    "            output = model(data)\n",
    "            _, predicted = torch.max(output.data, 1)\n",
    "            total += labels.size(0)\n",
    "            correct += (predicted == labels).sum().item()\n",
    "            \n",
    "    print(f\"Accuracy: {correct / total}\")"
   ]
  },
  {
   "cell_type": "code",
   "execution_count": null,
   "metadata": {},
   "outputs": [],
   "source": [
    "# data loader\n",
    "train_dataset = CSVDataset(train_data, train_labels)\n",
    "test_dataset = CSVDataset(test_data, test_labels)\n",
    "\n",
    "train_loader = DataLoader(train_dataset, batch_size=1000, shuffle=True)\n",
    "test_loader = DataLoader(test_dataset, batch_size=1000, shuffle=True)"
   ]
  },
  {
   "cell_type": "code",
   "execution_count": null,
   "metadata": {},
   "outputs": [],
   "source": [
    "# create an instance of the network\n",
    "model = Net()\n",
    "\n",
    "# define the loss function and optimizer\n",
    "criterion = nn.CrossEntropyLoss()\n",
    "optimizer = optim.SGD(model.parameters(), lr=0.01)\n",
    "\n",
    "# run one forward and backward pass on the first item in the train_loader\n",
    "model.forward(train_data[0])\n"
   ]
  },
  {
   "cell_type": "code",
   "execution_count": null,
   "metadata": {},
   "outputs": [],
   "source": [
    "# train the network\n",
    "train(model, train_loader, criterion, optimizer, 500)\n",
    "\n",
    "# test the network\n",
    "test(model, test_loader)"
   ]
  },
  {
   "cell_type": "code",
   "execution_count": null,
   "metadata": {},
   "outputs": [],
   "source": [
    "print(test_labels[0].item())\n",
    "model.forward(test_data[0])\n",
    "print(torch.argmax(model.forward(test_data[0])).item())\n"
   ]
  },
  {
   "cell_type": "code",
   "execution_count": null,
   "metadata": {},
   "outputs": [],
   "source": [
    "# save the model\n",
    "torch.save(model.state_dict(), \"model.pt\")"
   ]
  },
  {
   "cell_type": "code",
   "execution_count": null,
   "metadata": {},
   "outputs": [],
   "source": [
    "# load the model if needed\n",
    "model = Net()\n",
    "model.load_state_dict(torch.load(\"model.pt\"))\n",
    "model.eval()"
   ]
  },
  {
   "cell_type": "code",
   "execution_count": 36,
   "metadata": {},
   "outputs": [
    {
     "name": "stdout",
     "output_type": "stream",
     "text": [
      "torch.Size([1, 784])\n",
      "tensor([-3.9840,  1.3469, -2.7200, -2.4575,  3.2632, -0.8208, -2.0065,  0.9444,\n",
      "        -0.5887,  3.5824], grad_fn=<AddBackward0>)\n",
      "9\n"
     ]
    }
   ],
   "source": [
    "import csv\n",
    "\n",
    "user_input = []\n",
    "with open('user_input.csv', 'r') as csvfile:\n",
    "    reader = csv.reader(csvfile, delimiter=',')\n",
    "    for row in reader:\n",
    "        for i in range(0, len(row)):\n",
    "            row[i] = float(row[i])/255\n",
    "        user_input.append(row)\n",
    "\n",
    "user_input = torch.tensor(user_input)\n",
    "print(user_input.shape)\n",
    "\n",
    "prediction = model.forward(user_input[0])\n",
    "print(prediction)\n",
    "# print index of max value\n",
    "print(torch.argmax(prediction).item())\n"
   ]
  }
 ],
 "metadata": {
  "kernelspec": {
   "display_name": "Python 3.9.6 ('MLenv': venv)",
   "language": "python",
   "name": "python3"
  },
  "language_info": {
   "codemirror_mode": {
    "name": "ipython",
    "version": 3
   },
   "file_extension": ".py",
   "mimetype": "text/x-python",
   "name": "python",
   "nbconvert_exporter": "python",
   "pygments_lexer": "ipython3",
   "version": "3.9.6"
  },
  "orig_nbformat": 4,
  "vscode": {
   "interpreter": {
    "hash": "1dd0732b7f5c9e9188618993b5310f665c617770fff3e23f5c61d6a39d02cdf6"
   }
  }
 },
 "nbformat": 4,
 "nbformat_minor": 2
}
