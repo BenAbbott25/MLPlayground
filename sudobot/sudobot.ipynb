{
 "cells": [
  {
   "cell_type": "code",
   "execution_count": 12,
   "metadata": {},
   "outputs": [],
   "source": [
    "def checkRow(digit,board):\n",
    "    for i in range(9):\n",
    "        if digit in board[i]:\n",
    "            return False\n",
    "    return True\n",
    "\n",
    "def checkCol(digit,board):\n",
    "    for i in range(9):\n",
    "        if digit in board[:,i]:\n",
    "            return False\n",
    "    return True\n",
    "\n",
    "def checkBlock(digit,board):\n",
    "    for i in range(3):\n",
    "        for j in range(3):\n",
    "            if digit in board[i*3:(i+1)*3,j*3:(j+1)*3]:\n",
    "                return False\n",
    "    return True"
   ]
  },
  {
   "cell_type": "code",
   "execution_count": 13,
   "metadata": {},
   "outputs": [],
   "source": [
    "# imports\n",
    "\n",
    "import torch\n",
    "import torch.nn as nn\n",
    "import torch.optim as optim\n",
    "from torch.utils.data import DataLoader, Dataset\n",
    "\n",
    "import matplotlib.pyplot as plt\n",
    "\n",
    "import csv"
   ]
  },
  {
   "cell_type": "code",
   "execution_count": 14,
   "metadata": {},
   "outputs": [],
   "source": [
    "# import trainData_1 from sudokuData/trainData_1.csv\n",
    "\n",
    "def load_data(source):\n",
    "    sudos_inputs = []\n",
    "    sudos_outputs = []\n",
    "    with open('sudokuData/' + source + '.csv', 'r') as csvfile:\n",
    "        reader = csv.reader(csvfile, delimiter=',')\n",
    "        for row in reader:\n",
    "            sudos_inputs.append(row[0])\n",
    "            sudos_outputs.append(row[1])\n",
    "    # print(sudos_inputs[0:2])\n",
    "    # print(sudos_outputs[0:2])\n",
    "\n",
    "    # remove headers\n",
    "    sudos_inputs = sudos_inputs[1:]\n",
    "    sudos_outputs = sudos_outputs[1:]\n",
    "\n",
    "    # split str into list of ints\n",
    "    for i in range(len(sudos_inputs)):\n",
    "        sudos_inputs[i] = [int(x) for x in sudos_inputs[i]]\n",
    "        sudos_outputs[i] = [int(x) for x in sudos_outputs[i]]\n",
    "\n",
    "    # convert to tensor\n",
    "    sudos_inputs = torch.tensor(sudos_inputs)\n",
    "    sudos_outputs = torch.tensor(sudos_outputs)\n",
    "\n",
    "    # print(len(sudos_inputs))\n",
    "    # print(len(sudos_outputs))\n",
    "\n",
    "    # print(type(sudos_inputs))\n",
    "    # print(sudos_inputs.shape)\n",
    "\n",
    "    # print(type(sudos_outputs))\n",
    "    # print(sudos_outputs.shape)\n",
    "\n",
    "    print('Data Loaded! - ' + source)\n",
    "    return sudos_inputs, sudos_outputs"
   ]
  },
  {
   "cell_type": "code",
   "execution_count": 15,
   "metadata": {},
   "outputs": [
    {
     "name": "stdout",
     "output_type": "stream",
     "text": [
      "Data Loaded! - trainData_1\n",
      "Data Loaded! - testData_1\n"
     ]
    }
   ],
   "source": [
    "train_input, train_output = load_data('trainData_1')\n",
    "test_input, test_output = load_data('testData_1')"
   ]
  },
  {
   "cell_type": "code",
   "execution_count": 16,
   "metadata": {},
   "outputs": [],
   "source": [
    "# Custom dataset class\n",
    "class CSVDataset(Dataset):\n",
    "    def __init__(self, data, labels):\n",
    "        self.data = data\n",
    "        self.labels = labels\n",
    "\n",
    "    def __len__(self):\n",
    "        return len(self.data)\n",
    "\n",
    "    def __getitem__(self, index):\n",
    "        x = self.data[index]\n",
    "        y = self.labels[index]\n",
    "        return x, y"
   ]
  },
  {
   "cell_type": "code",
   "execution_count": 17,
   "metadata": {},
   "outputs": [],
   "source": [
    "# define the network class\n",
    "\n",
    "class Net(nn.Module):\n",
    "    def __init__(self):\n",
    "        super().__init__()\n",
    "        self.fc1 = nn.Linear(81, 64)\n",
    "        self.fc2 = nn.Linear(64, 64)\n",
    "        self.fc3 = nn.Linear(64, 64)\n",
    "        self.fc4 = nn.Linear(64, 81)\n",
    "\n",
    "    def forward(self, x):\n",
    "        x = torch.flatten(x, -1)\n",
    "        x = torch.relu(self.fc1(x))\n",
    "        x = torch.relu(self.fc2(x))\n",
    "        x = torch.relu(self.fc3(x))\n",
    "        x = self.fc4(x)\n",
    "        return x"
   ]
  },
  {
   "cell_type": "code",
   "execution_count": 18,
   "metadata": {},
   "outputs": [],
   "source": [
    "# define the training function\n",
    "\n",
    "def train(model, train_loader, criterion, optimizer, epochs):\n",
    "    loss_list = []\n",
    "    for epoch in range(epochs):\n",
    "        for input, data in enumerate(train_loader):\n",
    "            input, labels = data\n",
    "            optimizer.zero_grad()\n",
    "            output = model(input)\n",
    "            loss = criterion(output, labels)\n",
    "            loss_list.append(loss.item())\n",
    "            loss.backward()\n",
    "            optimizer.step()\n",
    "            if epoch % 100 == 0:\n",
    "                print(\"Epoch: \" + str(epoch) + \", Loss: \" + str(loss.item()))\n",
    "    print(\"Epoch: \" + str(epoch) + \", Loss: \" + str(loss.item()))\n",
    "\n",
    "    # use matplotlib to plot the loss\n",
    "    plt.plot(loss_list)\n",
    "                \n",
    "    print(\"Finished Training\")"
   ]
  },
  {
   "cell_type": "code",
   "execution_count": 19,
   "metadata": {},
   "outputs": [],
   "source": [
    "# define the testing function\n",
    "\n",
    "def test(model, test_loader):\n",
    "    correct = 0\n",
    "    total = 0\n",
    "\n",
    "    with torch.no_grad():\n",
    "        for data, labels in test_loader:\n",
    "            output = model(data)\n",
    "            _, predicted = torch.max(output.data, 1)\n",
    "            total += labels.size(0)\n",
    "            correct += (predicted == labels).sum().item()\n",
    "            \n",
    "    print(f\"Accuracy: {correct / total}\")"
   ]
  },
  {
   "cell_type": "code",
   "execution_count": 20,
   "metadata": {},
   "outputs": [],
   "source": [
    "# data loader\n",
    "train_dataset = CSVDataset(train_input, train_output)\n",
    "test_dataset = CSVDataset(test_input, test_output)\n",
    "\n",
    "train_loader = DataLoader(train_dataset, batch_size=250, shuffle=True)\n",
    "test_loader = DataLoader(test_dataset, batch_size=250, shuffle=True)"
   ]
  },
  {
   "cell_type": "code",
   "execution_count": 21,
   "metadata": {},
   "outputs": [
    {
     "name": "stdout",
     "output_type": "stream",
     "text": [
      "tensor([6, 7, 9, 5, 1, 8, 2, 4, 3, 5, 4, 3, 7, 2, 9, 6, 1, 8, 8, 2, 1, 6, 3, 4,\n",
      "        9, 5, 7, 7, 9, 4, 3, 5, 2, 1, 8, 6, 3, 5, 8, 4, 6, 1, 7, 2, 9, 2, 1, 6,\n",
      "        8, 9, 7, 5, 3, 4, 4, 8, 5, 2, 7, 6, 3, 9, 1, 9, 6, 2, 1, 8, 3, 4, 7, 5,\n",
      "        1, 3, 7, 9, 4, 5, 8, 6, 2])\n"
     ]
    },
    {
     "ename": "RuntimeError",
     "evalue": "expected scalar type Long but found Float",
     "output_type": "error",
     "traceback": [
      "\u001b[0;31m---------------------------------------------------------------------------\u001b[0m",
      "\u001b[0;31mRuntimeError\u001b[0m                              Traceback (most recent call last)",
      "Cell \u001b[0;32mIn[21], line 10\u001b[0m\n\u001b[1;32m      8\u001b[0m \u001b[39m# run one forward pass on the first item in the train_loader\u001b[39;00m\n\u001b[1;32m      9\u001b[0m \u001b[39mprint\u001b[39m(train_output[\u001b[39m0\u001b[39m])\n\u001b[0;32m---> 10\u001b[0m model\u001b[39m.\u001b[39;49mforward(train_input[\u001b[39m0\u001b[39;49m])\n",
      "Cell \u001b[0;32mIn[17], line 13\u001b[0m, in \u001b[0;36mNet.forward\u001b[0;34m(self, x)\u001b[0m\n\u001b[1;32m     11\u001b[0m \u001b[39mdef\u001b[39;00m \u001b[39mforward\u001b[39m(\u001b[39mself\u001b[39m, x):\n\u001b[1;32m     12\u001b[0m     x \u001b[39m=\u001b[39m torch\u001b[39m.\u001b[39mflatten(x, \u001b[39m-\u001b[39m\u001b[39m1\u001b[39m)\n\u001b[0;32m---> 13\u001b[0m     x \u001b[39m=\u001b[39m torch\u001b[39m.\u001b[39mrelu(\u001b[39mself\u001b[39;49m\u001b[39m.\u001b[39;49mfc1(x))\n\u001b[1;32m     14\u001b[0m     x \u001b[39m=\u001b[39m torch\u001b[39m.\u001b[39mrelu(\u001b[39mself\u001b[39m\u001b[39m.\u001b[39mfc2(x))\n\u001b[1;32m     15\u001b[0m     x \u001b[39m=\u001b[39m torch\u001b[39m.\u001b[39mrelu(\u001b[39mself\u001b[39m\u001b[39m.\u001b[39mfc3(x))\n",
      "File \u001b[0;32m~/Documents/GitHub/MLPlayground/MLenv/lib/python3.9/site-packages/torch/nn/modules/module.py:1501\u001b[0m, in \u001b[0;36mModule._call_impl\u001b[0;34m(self, *args, **kwargs)\u001b[0m\n\u001b[1;32m   1496\u001b[0m \u001b[39m# If we don't have any hooks, we want to skip the rest of the logic in\u001b[39;00m\n\u001b[1;32m   1497\u001b[0m \u001b[39m# this function, and just call forward.\u001b[39;00m\n\u001b[1;32m   1498\u001b[0m \u001b[39mif\u001b[39;00m \u001b[39mnot\u001b[39;00m (\u001b[39mself\u001b[39m\u001b[39m.\u001b[39m_backward_hooks \u001b[39mor\u001b[39;00m \u001b[39mself\u001b[39m\u001b[39m.\u001b[39m_backward_pre_hooks \u001b[39mor\u001b[39;00m \u001b[39mself\u001b[39m\u001b[39m.\u001b[39m_forward_hooks \u001b[39mor\u001b[39;00m \u001b[39mself\u001b[39m\u001b[39m.\u001b[39m_forward_pre_hooks\n\u001b[1;32m   1499\u001b[0m         \u001b[39mor\u001b[39;00m _global_backward_pre_hooks \u001b[39mor\u001b[39;00m _global_backward_hooks\n\u001b[1;32m   1500\u001b[0m         \u001b[39mor\u001b[39;00m _global_forward_hooks \u001b[39mor\u001b[39;00m _global_forward_pre_hooks):\n\u001b[0;32m-> 1501\u001b[0m     \u001b[39mreturn\u001b[39;00m forward_call(\u001b[39m*\u001b[39;49margs, \u001b[39m*\u001b[39;49m\u001b[39m*\u001b[39;49mkwargs)\n\u001b[1;32m   1502\u001b[0m \u001b[39m# Do not call functions when jit is used\u001b[39;00m\n\u001b[1;32m   1503\u001b[0m full_backward_hooks, non_full_backward_hooks \u001b[39m=\u001b[39m [], []\n",
      "File \u001b[0;32m~/Documents/GitHub/MLPlayground/MLenv/lib/python3.9/site-packages/torch/nn/modules/linear.py:114\u001b[0m, in \u001b[0;36mLinear.forward\u001b[0;34m(self, input)\u001b[0m\n\u001b[1;32m    113\u001b[0m \u001b[39mdef\u001b[39;00m \u001b[39mforward\u001b[39m(\u001b[39mself\u001b[39m, \u001b[39minput\u001b[39m: Tensor) \u001b[39m-\u001b[39m\u001b[39m>\u001b[39m Tensor:\n\u001b[0;32m--> 114\u001b[0m     \u001b[39mreturn\u001b[39;00m F\u001b[39m.\u001b[39;49mlinear(\u001b[39minput\u001b[39;49m, \u001b[39mself\u001b[39;49m\u001b[39m.\u001b[39;49mweight, \u001b[39mself\u001b[39;49m\u001b[39m.\u001b[39;49mbias)\n",
      "\u001b[0;31mRuntimeError\u001b[0m: expected scalar type Long but found Float"
     ]
    }
   ],
   "source": [
    "# create an instance of the network\n",
    "model = Net()\n",
    "\n",
    "# define the loss function and optimizer\n",
    "criterion = nn.CrossEntropyLoss()\n",
    "optimizer = optim.SGD(model.parameters(), lr=0.0025)\n",
    "\n",
    "# run one forward pass on the first item in the train_loader\n",
    "print(train_output[0])\n",
    "model.forward(train_input[0])"
   ]
  }
 ],
 "metadata": {
  "kernelspec": {
   "display_name": "Python 3.9.6 ('MLenv': venv)",
   "language": "python",
   "name": "python3"
  },
  "language_info": {
   "codemirror_mode": {
    "name": "ipython",
    "version": 3
   },
   "file_extension": ".py",
   "mimetype": "text/x-python",
   "name": "python",
   "nbconvert_exporter": "python",
   "pygments_lexer": "ipython3",
   "version": "3.9.6"
  },
  "orig_nbformat": 4,
  "vscode": {
   "interpreter": {
    "hash": "1dd0732b7f5c9e9188618993b5310f665c617770fff3e23f5c61d6a39d02cdf6"
   }
  }
 },
 "nbformat": 4,
 "nbformat_minor": 2
}
